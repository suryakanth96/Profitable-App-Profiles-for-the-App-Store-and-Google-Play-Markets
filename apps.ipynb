{
 "cells": [
  {
   "cell_type": "markdown",
   "metadata": {},
   "source": [
    "# Profitable App Profiles for the App Store and Google Play Markets"
   ]
  },
  {
   "cell_type": "markdown",
   "metadata": {},
   "source": [
    "#### The goal of this project is to analyze the data from Google Play Store and Apple Store and understand what kinds of apps are likely to attract more users."
   ]
  },
  {
   "cell_type": "code",
   "execution_count": 1,
   "metadata": {
    "collapsed": true
   },
   "outputs": [],
   "source": [
    "def explore_data(dataset, start, end, rows_and_columns=False):\n",
    "    dataset_slice = dataset[start:end]    \n",
    "    for row in dataset_slice:\n",
    "        print(row)\n",
    "        print('\\n') # adds a new (empty) line after each row\n",
    "\n",
    "    if rows_and_columns:\n",
    "        print('Number of rows:', len(dataset))\n",
    "        print('Number of columns:', len(dataset[0]))"
   ]
  },
  {
   "cell_type": "code",
   "execution_count": 2,
   "metadata": {},
   "outputs": [
    {
     "name": "stdout",
     "output_type": "stream",
     "text": [
      "[['App', 'Category', 'Rating', 'Reviews', 'Size', 'Installs', 'Type', 'Price', 'Content Rating', 'Genres', 'Last Updated', 'Current Ver', 'Android Ver'], ['Photo Editor & Candy Camera & Grid & ScrapBook', 'ART_AND_DESIGN', '4.1', '159', '19M', '10,000+', 'Free', '0', 'Everyone', 'Art & Design', 'January 7, 2018', '1.0.0', '4.0.3 and up'], ['Coloring book moana', 'ART_AND_DESIGN', '3.9', '967', '14M', '500,000+', 'Free', '0', 'Everyone', 'Art & Design;Pretend Play', 'January 15, 2018', '2.0.0', '4.0.3 and up'], ['U Launcher Lite – FREE Live Cool Themes, Hide Apps', 'ART_AND_DESIGN', '4.7', '87510', '8.7M', '5,000,000+', 'Free', '0', 'Everyone', 'Art & Design', 'August 1, 2018', '1.2.4', '4.0.3 and up'], ['Sketch - Draw & Paint', 'ART_AND_DESIGN', '4.5', '215644', '25M', '50,000,000+', 'Free', '0', 'Teen', 'Art & Design', 'June 8, 2018', 'Varies with device', '4.2 and up']]\n",
      "\n",
      "[['id', 'track_name', 'size_bytes', 'currency', 'price', 'rating_count_tot', 'rating_count_ver', 'user_rating', 'user_rating_ver', 'ver', 'cont_rating', 'prime_genre', 'sup_devices.num', 'ipadSc_urls.num', 'lang.num', 'vpp_lic'], ['284882215', 'Facebook', '389879808', 'USD', '0.0', '2974676', '212', '3.5', '3.5', '95.0', '4+', 'Social Networking', '37', '1', '29', '1'], ['389801252', 'Instagram', '113954816', 'USD', '0.0', '2161558', '1289', '4.5', '4.0', '10.23', '12+', 'Photo & Video', '37', '0', '29', '1'], ['529479190', 'Clash of Clans', '116476928', 'USD', '0.0', '2130805', '579', '4.5', '4.5', '9.24.12', '9+', 'Games', '38', '5', '18', '1'], ['420009108', 'Temple Run', '65921024', 'USD', '0.0', '1724546', '3842', '4.5', '4.0', '1.6.2', '9+', 'Games', '40', '5', '1', '1']]\n"
     ]
    }
   ],
   "source": [
    "def read_dataset(ds):\n",
    "    f = open(ds,'r')\n",
    "    from csv import reader\n",
    "    read_data = reader(f)\n",
    "    data = list(read_data)\n",
    "    return data\n",
    "android_data = read_dataset(\"googleplaystore.csv\")\n",
    "apple_data = read_dataset(\"AppleStore.csv\")\n",
    "print(android_data[0:5], end='\\n\\n')\n",
    "print(apple_data[0:5])"
   ]
  },
  {
   "cell_type": "code",
   "execution_count": 3,
   "metadata": {},
   "outputs": [
    {
     "name": "stdout",
     "output_type": "stream",
     "text": [
      "['Photo Editor & Candy Camera & Grid & ScrapBook', 'ART_AND_DESIGN', '4.1', '159', '19M', '10,000+', 'Free', '0', 'Everyone', 'Art & Design', 'January 7, 2018', '1.0.0', '4.0.3 and up']\n",
      "\n",
      "\n",
      "['Coloring book moana', 'ART_AND_DESIGN', '3.9', '967', '14M', '500,000+', 'Free', '0', 'Everyone', 'Art & Design;Pretend Play', 'January 15, 2018', '2.0.0', '4.0.3 and up']\n",
      "\n",
      "\n",
      "['U Launcher Lite – FREE Live Cool Themes, Hide Apps', 'ART_AND_DESIGN', '4.7', '87510', '8.7M', '5,000,000+', 'Free', '0', 'Everyone', 'Art & Design', 'August 1, 2018', '1.2.4', '4.0.3 and up']\n",
      "\n",
      "\n",
      "['Sketch - Draw & Paint', 'ART_AND_DESIGN', '4.5', '215644', '25M', '50,000,000+', 'Free', '0', 'Teen', 'Art & Design', 'June 8, 2018', 'Varies with device', '4.2 and up']\n",
      "\n",
      "\n",
      "['Pixel Draw - Number Art Coloring Book', 'ART_AND_DESIGN', '4.3', '967', '2.8M', '100,000+', 'Free', '0', 'Everyone', 'Art & Design;Creativity', 'June 20, 2018', '1.1', '4.4 and up']\n",
      "\n",
      "\n",
      "Number of rows: 10841\n",
      "Number of columns: 13\n"
     ]
    }
   ],
   "source": [
    "explore_data(android_data[1:], 0, 5, True)"
   ]
  },
  {
   "cell_type": "code",
   "execution_count": 4,
   "metadata": {},
   "outputs": [
    {
     "name": "stdout",
     "output_type": "stream",
     "text": [
      "['284882215', 'Facebook', '389879808', 'USD', '0.0', '2974676', '212', '3.5', '3.5', '95.0', '4+', 'Social Networking', '37', '1', '29', '1']\n",
      "\n",
      "\n",
      "['389801252', 'Instagram', '113954816', 'USD', '0.0', '2161558', '1289', '4.5', '4.0', '10.23', '12+', 'Photo & Video', '37', '0', '29', '1']\n",
      "\n",
      "\n",
      "['529479190', 'Clash of Clans', '116476928', 'USD', '0.0', '2130805', '579', '4.5', '4.5', '9.24.12', '9+', 'Games', '38', '5', '18', '1']\n",
      "\n",
      "\n",
      "['420009108', 'Temple Run', '65921024', 'USD', '0.0', '1724546', '3842', '4.5', '4.0', '1.6.2', '9+', 'Games', '40', '5', '1', '1']\n",
      "\n",
      "\n",
      "['284035177', 'Pandora - Music & Radio', '130242560', 'USD', '0.0', '1126879', '3594', '4.0', '4.5', '8.4.1', '12+', 'Music', '37', '4', '1', '1']\n",
      "\n",
      "\n",
      "Number of rows: 7197\n",
      "Number of columns: 16\n"
     ]
    }
   ],
   "source": [
    "explore_data(apple_data[1:], 0, 5, True)"
   ]
  },
  {
   "cell_type": "code",
   "execution_count": 5,
   "metadata": {},
   "outputs": [
    {
     "name": "stdout",
     "output_type": "stream",
     "text": [
      "['App', 'Category', 'Rating', 'Reviews', 'Size', 'Installs', 'Type', 'Price', 'Content Rating', 'Genres', 'Last Updated', 'Current Ver', 'Android Ver']\n"
     ]
    }
   ],
   "source": [
    " #columns of android dataset\n",
    "print(android_data[0])    "
   ]
  },
  {
   "cell_type": "markdown",
   "metadata": {},
   "source": [
    "Link to the documentation of the Google Play dataset:\n",
    "https://www.kaggle.com/lava18/google-play-store-apps/home"
   ]
  },
  {
   "cell_type": "code",
   "execution_count": 6,
   "metadata": {},
   "outputs": [
    {
     "name": "stdout",
     "output_type": "stream",
     "text": [
      "['id', 'track_name', 'size_bytes', 'currency', 'price', 'rating_count_tot', 'rating_count_ver', 'user_rating', 'user_rating_ver', 'ver', 'cont_rating', 'prime_genre', 'sup_devices.num', 'ipadSc_urls.num', 'lang.num', 'vpp_lic']\n"
     ]
    }
   ],
   "source": [
    "#columns of apple dataset\n",
    "print(apple_data[0])"
   ]
  },
  {
   "cell_type": "markdown",
   "metadata": {},
   "source": [
    "Link to the documentation of the App Store dataset: \n",
    "https://www.kaggle.com/ramamet4/app-store-apple-data-set-10k-apps/home"
   ]
  },
  {
   "cell_type": "markdown",
   "metadata": {},
   "source": [
    "## Data cleaning"
   ]
  },
  {
   "cell_type": "code",
   "execution_count": 7,
   "metadata": {},
   "outputs": [
    {
     "name": "stdout",
     "output_type": "stream",
     "text": [
      "['Life Made WI-Fi Touchscreen Photo Frame', '1.9', '19', '3.0M', '1,000+', 'Free', '0', 'Everyone', '', 'February 11, 2018', '1.0.19', '4.0 and up']\n"
     ]
    }
   ],
   "source": [
    "print(android_data[10473]) #missing category value"
   ]
  },
  {
   "cell_type": "code",
   "execution_count": 8,
   "metadata": {
    "collapsed": true
   },
   "outputs": [],
   "source": [
    "del android_data[10473] #deleting the row"
   ]
  },
  {
   "cell_type": "code",
   "execution_count": 9,
   "metadata": {},
   "outputs": [
    {
     "name": "stdout",
     "output_type": "stream",
     "text": [
      "['osmino Wi-Fi: free WiFi', 'TOOLS', '4.2', '134203', '4.1M', '10,000,000+', 'Free', '0', 'Everyone', 'Tools', 'August 7, 2018', '6.06.14', '4.4 and up']\n"
     ]
    }
   ],
   "source": [
    "print(android_data[10473])"
   ]
  },
  {
   "cell_type": "markdown",
   "metadata": {},
   "source": [
    "**The Google Play dataset has duplicate entries**"
   ]
  },
  {
   "cell_type": "code",
   "execution_count": 10,
   "metadata": {},
   "outputs": [
    {
     "name": "stdout",
     "output_type": "stream",
     "text": [
      "['Instagram', 'SOCIAL', '4.5', '66577313', 'Varies with device', '1,000,000,000+', 'Free', '0', 'Teen', 'Social', 'July 31, 2018', 'Varies with device', 'Varies with device']\n",
      "['Instagram', 'SOCIAL', '4.5', '66577446', 'Varies with device', '1,000,000,000+', 'Free', '0', 'Teen', 'Social', 'July 31, 2018', 'Varies with device', 'Varies with device']\n",
      "['Instagram', 'SOCIAL', '4.5', '66577313', 'Varies with device', '1,000,000,000+', 'Free', '0', 'Teen', 'Social', 'July 31, 2018', 'Varies with device', 'Varies with device']\n",
      "['Instagram', 'SOCIAL', '4.5', '66509917', 'Varies with device', '1,000,000,000+', 'Free', '0', 'Teen', 'Social', 'July 31, 2018', 'Varies with device', 'Varies with device']\n"
     ]
    }
   ],
   "source": [
    "for app in android_data:  #Duplicate entries\n",
    "    if app[0] == 'Instagram':\n",
    "        print(app)"
   ]
  },
  {
   "cell_type": "code",
   "execution_count": 11,
   "metadata": {},
   "outputs": [
    {
     "name": "stdout",
     "output_type": "stream",
     "text": [
      "1181 duplicate entries\n",
      "['Quick PDF Scanner + OCR FREE', 'Box', 'Google My Business', 'ZOOM Cloud Meetings', 'join.me - Simple Meetings', 'Box', 'Zenefits', 'Google Ads', 'Google My Business', 'Slack']\n"
     ]
    }
   ],
   "source": [
    "duplicate_apps = []\n",
    "unique_apps = []\n",
    "\n",
    "for app in android_data:\n",
    "    if app[0] in unique_apps:\n",
    "        duplicate_apps.append(app[0])\n",
    "    else:\n",
    "        unique_apps.append(app[0])\n",
    "        \n",
    "print(len(duplicate_apps), 'duplicate entries')\n",
    "print(duplicate_apps[:10])"
   ]
  },
  {
   "cell_type": "markdown",
   "metadata": {},
   "source": [
    "__Removing duplicate data__\n",
    "\n",
    "_If we examine the rows printed above for the Instagram app, the main difference happens on the fourth position of each row, which corresponds to the number of reviews. The different numbers show that the data was collected at different times._\n",
    "\n",
    "_We could use this information to build a criterion for removing the duplicates. The higher the number of reviews, the more recent the data should be. Rather than removing duplicates randomly, we'll only keep the row with the highest number of reviews and remove the other entries for any given app._"
   ]
  },
  {
   "cell_type": "code",
   "execution_count": 12,
   "metadata": {},
   "outputs": [
    {
     "name": "stdout",
     "output_type": "stream",
     "text": [
      "9659\n"
     ]
    }
   ],
   "source": [
    "reviews_max = {}\n",
    "for app in android_data[1:]:\n",
    "    name = app[0]\n",
    "    n_reviews = float(app[3])\n",
    "    if name in reviews_max and reviews_max[name] < n_reviews:\n",
    "        reviews_max[name] = n_reviews\n",
    "    if name not in reviews_max: # else is not used, otherwise the number of reviews will be incorrectly updated whenever reviews_max[name] < n_reviews evaluates to False.\n",
    "        reviews_max[name] = n_reviews\n",
    "print(len(reviews_max))               "
   ]
  },
  {
   "cell_type": "markdown",
   "metadata": {},
   "source": [
    "**Using the dictionary created above to remove the duplicate rows**"
   ]
  },
  {
   "cell_type": "code",
   "execution_count": 13,
   "metadata": {},
   "outputs": [
    {
     "name": "stdout",
     "output_type": "stream",
     "text": [
      "9659\n"
     ]
    }
   ],
   "source": [
    "android_clean = [] #list which will store the new cleaned dataset\n",
    "already_added = [] #list to just store app names\n",
    "\n",
    "for app in android_data[1:]:\n",
    "    name = app[0]\n",
    "    n_reviews = float(app[3])\n",
    "    if n_reviews == reviews_max[name] and name not in already_added:\n",
    "        android_clean.append(app)\n",
    "        already_added.append(name)\n",
    "print(len(android_clean))        "
   ]
  },
  {
   "cell_type": "markdown",
   "metadata": {},
   "source": [
    "**The apps are directed towards an English speaking audience. So non-English apps in the dataset are removed**"
   ]
  },
  {
   "cell_type": "markdown",
   "metadata": {},
   "source": [
    "The numbers corresponding to the characters we commonly use in an English text are all in the range 0 to 127, according to the ASCII system. Based on this number range, we can detect whether a character belongs to the set of common English characters or not. If the number is equal to or less than 127, then the character belongs to the set of common English characters.\n",
    "\n",
    "So if an app name contains a character that is greater than 127, then it probably means that the app has a non-English name."
   ]
  },
  {
   "cell_type": "code",
   "execution_count": 14,
   "metadata": {},
   "outputs": [
    {
     "name": "stdout",
     "output_type": "stream",
     "text": [
      "True\n",
      "False\n",
      "False\n",
      "False\n"
     ]
    }
   ],
   "source": [
    "def english_app(app_name):\n",
    "    for char in app_name:\n",
    "        if ord(char) > 127:\n",
    "            return False\n",
    "    return True\n",
    "print(english_app('Instagram'))\n",
    "print(english_app('爱奇艺PPS -《欢乐颂2》电视剧热播'))\n",
    "print(english_app('Docs To Go™ Free Office Suite'))\n",
    "print(english_app('Instachat 😜'))\n",
    "        "
   ]
  },
  {
   "cell_type": "markdown",
   "metadata": {},
   "source": [
    "The function couldn't identify correctly certain English app names like 'Docs To Go™ Free Office Suite' and 'Instachat 😜'. This is because emojis and some characters like ™ fall outside the ASCII range and have corresponding numbers that are over 127.\n",
    "\n",
    "To minimize the impact of data loss, an app is removed only if its name has more than three characters with corresponding numbers falling outside the ASCII range.\n",
    "\n",
    "The function is still not perfect, but it should be fairly effective."
   ]
  },
  {
   "cell_type": "code",
   "execution_count": 15,
   "metadata": {},
   "outputs": [
    {
     "name": "stdout",
     "output_type": "stream",
     "text": [
      "True\n",
      "False\n",
      "True\n",
      "True\n"
     ]
    }
   ],
   "source": [
    "def english_app(app_name):\n",
    "    count = 0\n",
    "    for char in app_name:\n",
    "        if ord(char) > 127:\n",
    "            count += 1\n",
    "    if count > 3:\n",
    "        return False\n",
    "    return True\n",
    "print(english_app('Instagram'))\n",
    "print(english_app('爱奇艺PPS -《欢乐颂2》电视剧热播'))\n",
    "print(english_app('Docs To Go™ Free Office Suite'))\n",
    "print(english_app('Instachat 😜'))"
   ]
  },
  {
   "cell_type": "code",
   "execution_count": 16,
   "metadata": {},
   "outputs": [
    {
     "name": "stdout",
     "output_type": "stream",
     "text": [
      "9614\n"
     ]
    }
   ],
   "source": [
    "english_android = [] #new list for English android apps\n",
    "for app in android_clean:\n",
    "    name = app[0]\n",
    "    eng_app = english_app(name)\n",
    "    if eng_app:\n",
    "        english_android.append(app)\n",
    "print(len(english_android))        "
   ]
  },
  {
   "cell_type": "code",
   "execution_count": 17,
   "metadata": {},
   "outputs": [
    {
     "name": "stdout",
     "output_type": "stream",
     "text": [
      "6184\n"
     ]
    }
   ],
   "source": [
    "english_apple = [] #new list for English apple apps\n",
    "for app in apple_data:\n",
    "    name = app[1]\n",
    "    eng_app = english_app(name)\n",
    "    if eng_app:\n",
    "        english_apple.append(app)\n",
    "print(len(english_apple)) "
   ]
  },
  {
   "cell_type": "code",
   "execution_count": 18,
   "metadata": {},
   "outputs": [
    {
     "name": "stdout",
     "output_type": "stream",
     "text": [
      "8863\n"
     ]
    }
   ],
   "source": [
    "android_free = [] #new list for free android apps\n",
    "for app in english_android:\n",
    "    price = app[6]\n",
    "    if price == 'Free':\n",
    "        android_free.append(app)\n",
    "print(len(android_free))        "
   ]
  },
  {
   "cell_type": "code",
   "execution_count": 19,
   "metadata": {},
   "outputs": [
    {
     "name": "stdout",
     "output_type": "stream",
     "text": [
      "3222\n"
     ]
    }
   ],
   "source": [
    "apple_free = [] #new list for free apple apps\n",
    "for app in english_apple:\n",
    "    price = app[4]\n",
    "    if price == '0.0' :\n",
    "        apple_free.append(app)\n",
    "print(len(apple_free)) "
   ]
  },
  {
   "cell_type": "markdown",
   "metadata": {},
   "source": [
    "## Data analysis"
   ]
  },
  {
   "cell_type": "markdown",
   "metadata": {},
   "source": [
    "As mentioned in the introduction, the aim of this project is to determine the kinds of apps that are likely to attract more users because the company's revenue is highly influenced by the number of people using the apps.\n",
    "\n",
    "To minimize risks and overhead, the validation strategy for an app idea is comprised of three steps:\n",
    "\n",
    "1. Build a minimal Android version of the app, and add it to Google Play.\n",
    "2. If the app has a good response from users, we then develop it further.\n",
    "3. If the app is profitable after six months, we also build an iOS version of the app and add it to the App Store.\n",
    "\n",
    "Because the end goal is to add the app on both the App Store and Google Play, we need to find app profiles that are successful on both markets.\n",
    "\n",
    "We can begin the analysis by getting a sense of what are the most common genres for each market. For this, we'll need to build frequency tables for a few columns in our data sets."
   ]
  },
  {
   "cell_type": "code",
   "execution_count": 20,
   "metadata": {},
   "outputs": [],
   "source": [
    "def freq_table(dataset, index):\n",
    "    freq_dict = {}\n",
    "    for app in dataset:\n",
    "        if app[index] in freq_dict:\n",
    "            freq_dict[app[index]] += 1\n",
    "        else:\n",
    "            freq_dict[app[index]] = 1\n",
    "    return freq_dict"
   ]
  },
  {
   "cell_type": "code",
   "execution_count": 21,
   "metadata": {
    "collapsed": true
   },
   "outputs": [],
   "source": [
    "def display_table(dataset, index):\n",
    "    table = freq_table(dataset, index)\n",
    "    table_display = []\n",
    "    for key in table:\n",
    "        key_val_as_tuple = (table[key], key) \n",
    "        table_display.append(key_val_as_tuple)\n",
    "\n",
    "    table_sorted = sorted(table_display, reverse = True)\n",
    "    for entry in table_sorted:\n",
    "        print(entry[1], ':', entry[0])"
   ]
  },
  {
   "cell_type": "markdown",
   "metadata": {},
   "source": [
    "The sorted() function doesn't work too well with dictionaries because it only considers and returns the dictionary keys.\n",
    "\n",
    "However, the sorted() function works well if we transform the dictionary into a list of tuples, where each tuple contains a dictionary key along with its corresponding dictionary value. To ensure the sorting works right, the dictionary value comes first, and the dictionary key comes second.\n",
    "\n",
    "So in the above function, the dictionary is converted to a list of tuples.\n",
    "\n"
   ]
  },
  {
   "cell_type": "code",
   "execution_count": 22,
   "metadata": {},
   "outputs": [
    {
     "name": "stdout",
     "output_type": "stream",
     "text": [
      "Games : 1874\n",
      "Entertainment : 254\n",
      "Photo & Video : 160\n",
      "Education : 118\n",
      "Social Networking : 106\n",
      "Shopping : 84\n",
      "Utilities : 81\n",
      "Sports : 69\n",
      "Music : 66\n",
      "Health & Fitness : 65\n",
      "Productivity : 56\n",
      "Lifestyle : 51\n",
      "News : 43\n",
      "Travel : 40\n",
      "Finance : 36\n",
      "Weather : 28\n",
      "Food & Drink : 26\n",
      "Reference : 18\n",
      "Business : 17\n",
      "Book : 14\n",
      "Navigation : 6\n",
      "Medical : 6\n",
      "Catalogs : 4\n"
     ]
    }
   ],
   "source": [
    "display_table(apple_free, 11)"
   ]
  },
  {
   "cell_type": "code",
   "execution_count": 23,
   "metadata": {},
   "outputs": [
    {
     "name": "stdout",
     "output_type": "stream",
     "text": [
      "Tools : 749\n",
      "Entertainment : 538\n",
      "Education : 474\n",
      "Business : 407\n",
      "Productivity : 345\n",
      "Lifestyle : 345\n",
      "Finance : 328\n",
      "Medical : 313\n",
      "Sports : 307\n",
      "Personalization : 294\n",
      "Communication : 287\n",
      "Action : 275\n",
      "Health & Fitness : 273\n",
      "Photography : 261\n",
      "News & Magazines : 248\n",
      "Social : 236\n",
      "Travel & Local : 206\n",
      "Shopping : 199\n",
      "Books & Reference : 190\n",
      "Simulation : 181\n",
      "Dating : 165\n",
      "Arcade : 164\n",
      "Video Players & Editors : 157\n",
      "Casual : 156\n",
      "Maps & Navigation : 124\n",
      "Food & Drink : 110\n",
      "Puzzle : 100\n",
      "Racing : 88\n",
      "Role Playing : 83\n",
      "Libraries & Demo : 83\n",
      "Auto & Vehicles : 82\n",
      "Strategy : 80\n",
      "House & Home : 73\n",
      "Weather : 71\n",
      "Events : 63\n",
      "Adventure : 60\n",
      "Comics : 54\n",
      "Beauty : 53\n",
      "Art & Design : 53\n",
      "Parenting : 44\n",
      "Card : 40\n",
      "Casino : 38\n",
      "Trivia : 37\n",
      "Educational;Education : 35\n",
      "Board : 34\n",
      "Educational : 33\n",
      "Education;Education : 30\n",
      "Word : 23\n",
      "Casual;Pretend Play : 21\n",
      "Music : 18\n",
      "Racing;Action & Adventure : 15\n",
      "Puzzle;Brain Games : 15\n",
      "Entertainment;Music & Video : 15\n",
      "Casual;Brain Games : 12\n",
      "Casual;Action & Adventure : 12\n",
      "Arcade;Action & Adventure : 11\n",
      "Action;Action & Adventure : 9\n",
      "Educational;Pretend Play : 8\n",
      "Simulation;Action & Adventure : 7\n",
      "Parenting;Education : 7\n",
      "Entertainment;Brain Games : 7\n",
      "Board;Brain Games : 7\n",
      "Parenting;Music & Video : 6\n",
      "Educational;Brain Games : 6\n",
      "Casual;Creativity : 6\n",
      "Art & Design;Creativity : 6\n",
      "Education;Pretend Play : 5\n",
      "Role Playing;Pretend Play : 4\n",
      "Education;Creativity : 4\n",
      "Role Playing;Action & Adventure : 3\n",
      "Puzzle;Action & Adventure : 3\n",
      "Entertainment;Creativity : 3\n",
      "Entertainment;Action & Adventure : 3\n",
      "Educational;Creativity : 3\n",
      "Educational;Action & Adventure : 3\n",
      "Education;Music & Video : 3\n",
      "Education;Brain Games : 3\n",
      "Education;Action & Adventure : 3\n",
      "Adventure;Action & Adventure : 3\n",
      "Video Players & Editors;Music & Video : 2\n",
      "Sports;Action & Adventure : 2\n",
      "Simulation;Pretend Play : 2\n",
      "Puzzle;Creativity : 2\n",
      "Music;Music & Video : 2\n",
      "Entertainment;Pretend Play : 2\n",
      "Casual;Education : 2\n",
      "Board;Action & Adventure : 2\n",
      "Video Players & Editors;Creativity : 1\n",
      "Trivia;Education : 1\n",
      "Travel & Local;Action & Adventure : 1\n",
      "Tools;Education : 1\n",
      "Strategy;Education : 1\n",
      "Strategy;Creativity : 1\n",
      "Strategy;Action & Adventure : 1\n",
      "Simulation;Education : 1\n",
      "Role Playing;Brain Games : 1\n",
      "Racing;Pretend Play : 1\n",
      "Puzzle;Education : 1\n",
      "Parenting;Brain Games : 1\n",
      "Music & Audio;Music & Video : 1\n",
      "Lifestyle;Pretend Play : 1\n",
      "Lifestyle;Education : 1\n",
      "Health & Fitness;Education : 1\n",
      "Health & Fitness;Action & Adventure : 1\n",
      "Entertainment;Education : 1\n",
      "Communication;Creativity : 1\n",
      "Comics;Creativity : 1\n",
      "Casual;Music & Video : 1\n",
      "Card;Action & Adventure : 1\n",
      "Books & Reference;Education : 1\n",
      "Art & Design;Pretend Play : 1\n",
      "Art & Design;Action & Adventure : 1\n",
      "Arcade;Pretend Play : 1\n",
      "Adventure;Education : 1\n"
     ]
    }
   ],
   "source": [
    "display_table(android_free, 9)"
   ]
  },
  {
   "cell_type": "code",
   "execution_count": 24,
   "metadata": {},
   "outputs": [
    {
     "name": "stdout",
     "output_type": "stream",
     "text": [
      "FAMILY : 1675\n",
      "GAME : 862\n",
      "TOOLS : 750\n",
      "BUSINESS : 407\n",
      "LIFESTYLE : 346\n",
      "PRODUCTIVITY : 345\n",
      "FINANCE : 328\n",
      "MEDICAL : 313\n",
      "SPORTS : 301\n",
      "PERSONALIZATION : 294\n",
      "COMMUNICATION : 287\n",
      "HEALTH_AND_FITNESS : 273\n",
      "PHOTOGRAPHY : 261\n",
      "NEWS_AND_MAGAZINES : 248\n",
      "SOCIAL : 236\n",
      "TRAVEL_AND_LOCAL : 207\n",
      "SHOPPING : 199\n",
      "BOOKS_AND_REFERENCE : 190\n",
      "DATING : 165\n",
      "VIDEO_PLAYERS : 159\n",
      "MAPS_AND_NAVIGATION : 124\n",
      "FOOD_AND_DRINK : 110\n",
      "EDUCATION : 103\n",
      "ENTERTAINMENT : 85\n",
      "LIBRARIES_AND_DEMO : 83\n",
      "AUTO_AND_VEHICLES : 82\n",
      "HOUSE_AND_HOME : 73\n",
      "WEATHER : 71\n",
      "EVENTS : 63\n",
      "PARENTING : 58\n",
      "ART_AND_DESIGN : 57\n",
      "COMICS : 55\n",
      "BEAUTY : 53\n"
     ]
    }
   ],
   "source": [
    "display_table(android_free, 1)"
   ]
  },
  {
   "cell_type": "markdown",
   "metadata": {},
   "source": [
    " "
   ]
  },
  {
   "cell_type": "markdown",
   "metadata": {},
   "source": [
    "**The frequency tables analyzed shows that the App Store is dominated by apps designed for fun(games, entertainment, photo and video, social networking, sports, music, etc.), while Google Play shows a more balanced landscape of both practical and for-fun apps. Now, lets get an idea about the kind of apps with the most users.**"
   ]
  },
  {
   "cell_type": "markdown",
   "metadata": {},
   "source": [
    "One way to find out what genres are the most popular is to calculate the average number of installs for each app genre. For the Google Play data set, this information is available  in the Installs column, but this information is missing for the App Store data set. As a workaround, we'll take the total number of user ratings as a proxy, which can be found in the rating_count_tot field."
   ]
  },
  {
   "cell_type": "code",
   "execution_count": 25,
   "metadata": {},
   "outputs": [],
   "source": [
    "unique_genres = freq_table(apple_free, 11)"
   ]
  },
  {
   "cell_type": "code",
   "execution_count": 26,
   "metadata": {},
   "outputs": [
    {
     "name": "stdout",
     "output_type": "stream",
     "text": [
      "Finance 31467.944444444445\n",
      "Lifestyle 16485.764705882353\n",
      "Catalogs 4004.0\n",
      "Entertainment 14029.830708661417\n",
      "Games 22788.6696905016\n",
      "Food & Drink 33333.92307692308\n",
      "Weather 52279.892857142855\n",
      "Sports 23008.898550724636\n",
      "Shopping 26919.690476190477\n",
      "Book 39758.5\n",
      "Business 7491.117647058823\n",
      "Social Networking 71548.34905660378\n",
      "Reference 74942.11111111111\n",
      "Travel 28243.8\n",
      "Music 57326.530303030304\n",
      "Photo & Video 28441.54375\n",
      "Productivity 21028.410714285714\n",
      "Health & Fitness 23298.015384615384\n",
      "Medical 612.0\n",
      "Navigation 86090.33333333333\n",
      "Utilities 18684.456790123455\n",
      "Education 7003.983050847458\n",
      "News 21248.023255813954\n"
     ]
    }
   ],
   "source": [
    "for genre in unique_genres:\n",
    "    total = 0 \n",
    "    len_genre = 0\n",
    "    for app in apple_free:\n",
    "        genre_app = app[11]\n",
    "        if genre_app == genre:\n",
    "            no_of_user_ratings = float(app[5])\n",
    "            total += no_of_user_ratings\n",
    "            len_genre += 1\n",
    "    avg_user_ratings = total/len_genre        \n",
    "    print(genre, avg_user_ratings )        \n",
    "    \n",
    "    \n",
    "    \n",
    "    "
   ]
  },
  {
   "cell_type": "markdown",
   "metadata": {
    "collapsed": true
   },
   "source": [
    "**We can see that the most popular genre in App store is navigation**"
   ]
  },
  {
   "cell_type": "markdown",
   "metadata": {},
   "source": [
    "The apps in Navigation genre are:"
   ]
  },
  {
   "cell_type": "code",
   "execution_count": 27,
   "metadata": {
    "scrolled": true
   },
   "outputs": [
    {
     "name": "stdout",
     "output_type": "stream",
     "text": [
      "Waze - GPS Navigation, Maps & Real-time Traffic\n",
      "Google Maps - Navigation & Transit\n",
      "Geocaching®\n",
      "CoPilot GPS – Car Navigation & Offline Maps\n",
      "ImmobilienScout24: Real Estate Search in Germany\n",
      "Railway Route Search\n"
     ]
    }
   ],
   "source": [
    "for app in apple_free:\n",
    "    if app[11] == 'Navigation':\n",
    "        print(app[1])"
   ]
  },
  {
   "cell_type": "markdown",
   "metadata": {
    "collapsed": true
   },
   "source": [
    "## Most Popular Apps by Genre on Google Play"
   ]
  },
  {
   "cell_type": "code",
   "execution_count": 28,
   "metadata": {},
   "outputs": [
    {
     "name": "stdout",
     "output_type": "stream",
     "text": [
      "1,000,000+ : 1394\n",
      "100,000+ : 1024\n",
      "10,000,000+ : 935\n",
      "10,000+ : 904\n",
      "1,000+ : 744\n",
      "100+ : 613\n",
      "5,000,000+ : 605\n",
      "500,000+ : 493\n",
      "50,000+ : 423\n",
      "5,000+ : 400\n",
      "10+ : 314\n",
      "500+ : 288\n",
      "50,000,000+ : 204\n",
      "100,000,000+ : 189\n",
      "50+ : 170\n",
      "5+ : 70\n",
      "1+ : 45\n",
      "500,000,000+ : 24\n",
      "1,000,000,000+ : 20\n",
      "0+ : 4\n"
     ]
    }
   ],
   "source": [
    "display_table(android_free, 5)"
   ]
  },
  {
   "cell_type": "markdown",
   "metadata": {},
   "source": [
    "The install numbers don't seem precise enough — we can see that most values are open-ended (100+, 1,000+, 5,000+, etc.)\n",
    "\n",
    "Lets consider 100+ as 100, 1000+ as 1000 and so on."
   ]
  },
  {
   "cell_type": "code",
   "execution_count": 29,
   "metadata": {},
   "outputs": [
    {
     "name": "stdout",
     "output_type": "stream",
     "text": [
      "{'HEALTH_AND_FITNESS': 273, 'SHOPPING': 199, 'EVENTS': 63, 'VIDEO_PLAYERS': 159, 'AUTO_AND_VEHICLES': 82, 'FOOD_AND_DRINK': 110, 'ENTERTAINMENT': 85, 'ART_AND_DESIGN': 57, 'WEATHER': 71, 'PHOTOGRAPHY': 261, 'SOCIAL': 236, 'FINANCE': 328, 'COMMUNICATION': 287, 'BUSINESS': 407, 'PERSONALIZATION': 294, 'PRODUCTIVITY': 345, 'TOOLS': 750, 'EDUCATION': 103, 'NEWS_AND_MAGAZINES': 248, 'MAPS_AND_NAVIGATION': 124, 'PARENTING': 58, 'GAME': 862, 'BOOKS_AND_REFERENCE': 190, 'LIBRARIES_AND_DEMO': 83, 'SPORTS': 301, 'DATING': 165, 'COMICS': 55, 'LIFESTYLE': 346, 'BEAUTY': 53, 'FAMILY': 1675, 'TRAVEL_AND_LOCAL': 207, 'MEDICAL': 313, 'HOUSE_AND_HOME': 73}\n"
     ]
    }
   ],
   "source": [
    "unique_category = freq_table(android_free, 1)\n",
    "print(unique_category)"
   ]
  },
  {
   "cell_type": "code",
   "execution_count": 33,
   "metadata": {},
   "outputs": [
    {
     "name": "stdout",
     "output_type": "stream",
     "text": [
      "HEALTH_AND_FITNESS : 4188821.9853479853\n",
      "SHOPPING : 7036877.311557789\n",
      "EVENTS : 253542.22222222222\n",
      "VIDEO_PLAYERS : 24727872.452830188\n",
      "AUTO_AND_VEHICLES : 647317.8170731707\n",
      "FOOD_AND_DRINK : 1924897.7363636363\n",
      "ENTERTAINMENT : 11640705.88235294\n",
      "ART_AND_DESIGN : 1986335.0877192982\n",
      "WEATHER : 5074486.197183099\n",
      "PHOTOGRAPHY : 17840110.40229885\n",
      "SOCIAL : 23253652.127118643\n",
      "FINANCE : 1387692.475609756\n",
      "COMMUNICATION : 38456119.167247385\n",
      "BUSINESS : 1712290.1474201474\n",
      "PERSONALIZATION : 5201482.6122448975\n",
      "PRODUCTIVITY : 16787331.344927534\n",
      "TOOLS : 10801391.298666667\n",
      "EDUCATION : 1833495.145631068\n",
      "NEWS_AND_MAGAZINES : 9549178.467741935\n",
      "MAPS_AND_NAVIGATION : 4056941.7741935486\n",
      "PARENTING : 542603.6206896552\n",
      "GAME : 15588015.603248259\n",
      "BOOKS_AND_REFERENCE : 8767811.894736841\n",
      "LIBRARIES_AND_DEMO : 638503.734939759\n",
      "SPORTS : 3638640.1428571427\n",
      "DATING : 854028.8303030303\n",
      "COMICS : 817657.2727272727\n",
      "LIFESTYLE : 1437816.2687861272\n",
      "BEAUTY : 513151.88679245283\n",
      "FAMILY : 3697848.1731343283\n",
      "TRAVEL_AND_LOCAL : 13984077.710144928\n",
      "MEDICAL : 120550.61980830671\n",
      "HOUSE_AND_HOME : 1331540.5616438356\n"
     ]
    }
   ],
   "source": [
    "for category in unique_category:\n",
    "    total = 0 #store the sum of installs specific to each genre.\n",
    "    len_category = 0 #store the number of apps specific to each genre.\n",
    "    for app in android_free:\n",
    "        category_app = app[1]\n",
    "        if category_app == category:\n",
    "            r1 = app[5].replace('+','').replace(',','')\n",
    "            no_of_installs = float(r1)\n",
    "            total += no_of_installs\n",
    "            len_category += 1\n",
    "    avg_no_of_installs = total/len_category       \n",
    "    print(category,':', avg_no_of_installs )"
   ]
  },
  {
   "cell_type": "markdown",
   "metadata": {
    "collapsed": true
   },
   "source": [
    "**We can see that the most popular genre in Play store is Communication**"
   ]
  },
  {
   "cell_type": "markdown",
   "metadata": {},
   "source": [
    "The apps in Communication genre "
   ]
  },
  {
   "cell_type": "code",
   "execution_count": 34,
   "metadata": {},
   "outputs": [
    {
     "name": "stdout",
     "output_type": "stream",
     "text": [
      "WhatsApp Messenger\n",
      "Messenger for SMS\n",
      "My Tele2\n",
      "imo beta free calls and text\n",
      "Contacts\n",
      "Call Free – Free Call\n",
      "Web Browser & Explorer\n",
      "Browser 4G\n",
      "MegaFon Dashboard\n",
      "ZenUI Dialer & Contacts\n",
      "Cricket Visual Voicemail\n",
      "TracFone My Account\n",
      "Xperia Link™\n",
      "TouchPal Keyboard - Fun Emoji & Android Keyboard\n",
      "Skype Lite - Free Video Call & Chat\n",
      "My magenta\n",
      "Android Messages\n",
      "Google Duo - High Quality Video Calls\n",
      "Seznam.cz\n",
      "Antillean Gold Telegram (original version)\n",
      "AT&T Visual Voicemail\n",
      "GMX Mail\n",
      "Omlet Chat\n",
      "My Vodacom SA\n",
      "Microsoft Edge\n",
      "Messenger – Text and Video Chat for Free\n",
      "imo free video calls and chat\n",
      "Calls & Text by Mo+\n",
      "free video calls and chat\n",
      "Skype - free IM & video calls\n",
      "Who\n",
      "GO SMS Pro - Messenger, Free Themes, Emoji\n",
      "Messaging+ SMS, MMS Free\n",
      "chomp SMS\n",
      "Glide - Video Chat Messenger\n",
      "Text SMS\n",
      "Talkray - Free Calls & Texts\n",
      "LINE: Free Calls & Messages\n",
      "GroupMe\n",
      "mysms SMS Text Messaging Sync\n",
      "2ndLine - Second Phone Number\n",
      "Google Chrome: Fast & Secure\n",
      "Firefox Browser fast & private\n",
      "Ninesky Browser\n",
      "Dolphin Browser - Fast, Private & Adblock🐬\n",
      "UC Browser - Fast Download Private & Secure\n",
      "Ghostery Privacy Browser\n",
      "InBrowser - Incognito Browsing\n",
      "Lightning Web Browser\n",
      "Web Browser\n",
      "Contacts+\n",
      "ExDialer - Dialer & Contacts\n",
      "PHONE for Google Voice & GTalk\n",
      "Safest Call Blocker\n",
      "Full Screen Caller ID\n",
      "Hiya - Caller ID & Block\n",
      "Mr. Number-Block calls & spam\n",
      "Should I Answer?\n",
      "RocketDial Dialer & Contacts\n",
      "CIA - Caller ID & Call Blocker\n",
      "Calls Blacklist - Call Blocker\n",
      "Call Control - Call Blocker\n",
      "True Contact - Real Caller ID\n",
      "Video Caller Id\n",
      "Sync.ME – Caller ID & Block\n",
      "Burner - Free Phone Number\n",
      "Caller ID +\n",
      "Gmail\n",
      "K-9 Mail\n",
      "myMail – Email for Hotmail, Gmail and Outlook Mail\n",
      "Email TypeApp - Mail App\n",
      "All Email Providers\n",
      "Newton Mail - Email App for Gmail, Outlook, IMAP\n",
      "GO Notifier\n",
      "Mail.Ru - Email App\n",
      "Mail1Click - Secure Mail\n",
      "Daum Mail - Next Mail\n",
      "mail.com mail\n",
      "SolMail - All-in-One email app\n",
      "Hangouts\n",
      "Vonage Mobile® Call Video Text\n",
      "JusTalk - Free Video Calls and Fun Video Chat\n",
      "Azar\n",
      "LokLok: Draw on a Lock Screen\n",
      "Discord - Chat for Gamers\n",
      "Messenger Lite: Free Calls & Messages\n",
      "AntennaPict β\n",
      "Talkatone: Free Texts, Calls & Phone Number\n",
      "Kik\n",
      "K-@ Mail - Email App\n",
      "KakaoTalk: Free Calls & Text\n",
      "K-9 Material (unofficial)\n",
      "M star Dialer\n",
      "Free WiFi Connect\n",
      "m:go BiH\n",
      "N-Com Wizard\n",
      "Opera Mini - fast web browser\n",
      "Opera Browser: Fast and Secure\n",
      "Opera Mini browser beta\n",
      "Psiphon Pro - The Internet Freedom VPN\n",
      "ICQ — Video Calls & Chat Messenger\n",
      "Telegram\n",
      "AT&T Messages for Tablet\n",
      "T-Mobile DIGITS\n",
      "Truecaller: Caller ID, SMS spam blocking & Dialer\n",
      "Portable Wi-Fi hotspot\n",
      "AT&T Call Protect\n",
      "U - Webinars, Meetings & Messenger\n",
      "UC Browser Mini -Tiny Fast Private & Secure\n",
      "/u/app\n",
      "[verify-U] VideoIdent\n",
      "Viber Messenger\n",
      "WeChat\n",
      "WhatsApp Business\n",
      "WhatsCall Free Global Phone Call App & Cheap Calls\n",
      "X Browser\n",
      "Yahoo Mail – Stay Organized\n",
      "Free Adblocker Browser - Adblock & Popup Blocker\n",
      "Adblock Browser for Android\n",
      "CM Browser - Ad Blocker , Fast Download , Privacy\n",
      "Adblock Plus for Samsung Internet - Browse safe.\n",
      "Ad Blocker Turbo - Adblocker Browser\n",
      "Brave Browser: Fast AdBlocker\n",
      "AG Contacts, Lite edition\n",
      "Oklahoma Ag Co-op Council\n",
      "Bee'ah Employee App\n",
      "tournaments and more.aj.2\n",
      "Aj.Petra\n",
      "AK Phone\n",
      "PlacarTv Futebol Ao Vivo\n",
      "WiFi Access Point (hotspot)\n",
      "Access Point Names\n",
      "Puffin Web Browser\n",
      "ClanHQ\n",
      "Ear Agent: Super Hearing\n",
      "Google Voice\n",
      "Google Allo\n",
      "AU Call Blocker - Block Unwanted Calls Texts 2018\n",
      "Baby Monitor AV\n",
      "AV Phone\n",
      "AW - free video calls and chat\n",
      "Katalogen.ax\n",
      "AZ Browser. Private & Download\n",
      "BA SALES\n",
      "BD Data Plan (3G & 4G)\n",
      "BD Internet Packages (Updated)\n",
      "BD Dialer\n",
      "BD Live Call\n",
      "Best Browser BD social networking\n",
      "Traffic signs BD\n",
      "BF Browser by Betfilter - Stop Gambling Today!\n",
      "My BF App\n",
      "BH Mail\n",
      "Zalo – Video Call\n",
      "BJ - Confidential\n",
      "BK Chat\n",
      "Of the wall Arapaho bk\n",
      "AC-BL\n",
      "BBM - Free Calls & Messages\n",
      "DMR BrandMeister Tool\n",
      "BBMoji - Your personalized BBM Stickers\n",
      "BN MALLORCA Radio\n",
      "BQ Partners\n",
      "BS-Mobile\n",
      "ATC Unico BS\n",
      "BT One Voice mobile access\n",
      "BT Messenger\n",
      "BT One Phone Mobile App\n",
      "SW-100.tch by Callstel\n",
      "BT MeetMe with Dolby Voice\n",
      "Bluetooth Auto Connect\n",
      "AudioBT: BT audio GPS/SMS/Text\n",
      "BV\n",
      "Feel Performer\n",
      "Tiny Call Confirm\n",
      "CB Radio Chat - for friends!\n",
      "CB On Mobile\n",
      "Virtual Walkie Talkie\n",
      "Channel 19\n",
      "Cb browser\n",
      "CF Chat: Connecting Friends\n",
      "retteMi.ch\n",
      "Chrome Dev\n",
      "CJ Browser - Fast & Private\n",
      "CJ DVD Rentals\n",
      "CK Call NEW\n",
      "CM Transfer - Share any files with friends nearby\n",
      "mail.co.uk Mail\n",
      "ClanPlay: Community and Tools for Gamers\n",
      "CQ-Mobile\n",
      "CQ-Alert\n",
      "QRZ Assistant\n",
      "Pocket Prefix Plus\n",
      "Ham Radio Prefixes\n",
      "CS Customizer\n",
      "CS Browser | #1 & BEST BROWSER\n",
      "CS Browser Beta\n",
      "My Vodafone (GR)\n",
      "IZ2UUF Morse Koch CW\n",
      "C W Browser\n",
      "CW Bluetooth SPP\n",
      "CW BLE Peripheral Simulator\n",
      "Morse Code Reader\n",
      "Learn Morse Code - G0HYN Learn Morse\n",
      "Ring\n",
      "Hyundai CX Conference\n",
      "Cy Messenger\n",
      "Amadeus GR & CY\n",
      "Hlášenírozhlasu.cz\n",
      "SMS Sender - sluzba.cz\n",
      "WEB.DE Mail\n",
      "Your Freedom VPN Client\n",
      "CallApp: Caller ID, Blocker & Phone Call Recorder\n",
      "Rádio Sol Nascente DF\n",
      "DG Card\n",
      "Whoscall - Caller ID & Block\n",
      "DK Browser\n",
      "cluster.dk\n",
      "DK TEL Dialer\n",
      "DM for WhatsApp\n",
      "DM Talk New\n",
      "DM - The Offical Messaging App\n",
      "DM Tracker\n",
      "Call Blocker & Blacklist\n",
      "ReadyOp DT\n",
      "DU Browser—Browse fast & fun\n",
      "Caller ID & Call Block - DU Caller\n",
      "BlueDV AMBE\n",
      "DW Contacts & Phone & Dialer\n",
      "Deaf World DW\n",
      "Ham DX Cluster & Spots Finder\n",
      "Mircules DX Cluster Lite\n",
      "3G DZ Configuration\n",
      "chat dz\n",
      "love sms good morning\n",
      "Goodbox - Mega App\n",
      "Call Blocker - Blacklist, SMS Blocker\n",
      "[EF]ShoutBox\n",
      "Eg Call\n",
      "ei\n",
      "EJ messenger\n",
      "Ek IRA\n",
      "Orfox: Tor Browser for Android\n",
      "EO Mumbai\n",
      "EP RSS Reader\n",
      "Voxer Walkie Talkie Messenger\n",
      "ES-1\n",
      "Hangouts Dialer - Call Phones\n",
      "EU Council\n",
      "Council Voting Calculator\n",
      "Have your say on Europe\n",
      "Programi podrške EU\n",
      "Inbox.eu\n",
      "Web Browser for Android\n",
      "Everbridge\n",
      "Best Auto Call Recorder Free\n",
      "EZ Wifi Notification\n",
      "Test Server SMS FA\n",
      "Lite for Facebook Messenger\n",
      "FC Browser - Focus Privacy Browser\n",
      "EHiN-FH conferenceapp\n",
      "Carpooling FH Hagenberg\n",
      "Wi-Fi Auto-connect\n",
      "Talkie - Wi-Fi Calling, Chats, File Sharing\n",
      "WeFi - Free Fast WiFi Connect & Find Wi-Fi Map\n",
      "Sat-Fi\n",
      "Portable Wi-Fi hotspot Free\n",
      "TownWiFi | Wi-Fi Everywhere\n",
      "Jazz Wi-Fi\n",
      "Sat-Fi Voice\n",
      "Free Wi-fi HotspoT\n",
      "FN Web Radio\n",
      "FNH Payment Info\n",
      "MARKET FO\n",
      "FO OP St-Nazaire\n",
      "FO SODEXO\n",
      "FO RCBT\n",
      "FO Interim\n",
      "FO PSA Sept-Fons\n",
      "FO AIRBUS TLSE\n",
      "FO STELIA Méaulte\n",
      "FO AIRBUS Nantes\n",
      "Firefox Focus: The privacy browser\n",
      "FP Connect\n",
      "FreedomPop Messaging Phone/SIM\n",
      "FP Live\n",
      "HipChat - beta version\n"
     ]
    }
   ],
   "source": [
    "for app in android_free:\n",
    "    if app[1] == 'COMMUNICATION':\n",
    "        print(app[0])"
   ]
  }
 ],
 "metadata": {
  "kernelspec": {
   "display_name": "Python 3",
   "language": "python",
   "name": "python3"
  },
  "language_info": {
   "codemirror_mode": {
    "name": "ipython",
    "version": 3
   },
   "file_extension": ".py",
   "mimetype": "text/x-python",
   "name": "python",
   "nbconvert_exporter": "python",
   "pygments_lexer": "ipython3",
   "version": "3.6.5"
  }
 },
 "nbformat": 4,
 "nbformat_minor": 2
}
